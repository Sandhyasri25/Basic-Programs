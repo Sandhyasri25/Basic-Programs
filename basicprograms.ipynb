{
 "cells": [
  {
   "cell_type": "code",
   "execution_count": 1,
   "id": "6809c22b-9fbb-4c7c-87bf-f5ed727c75ab",
   "metadata": {},
   "outputs": [
    {
     "name": "stdin",
     "output_type": "stream",
     "text": [
      "enter value for n1 3\n",
      "enter value for n2 4\n"
     ]
    },
    {
     "name": "stdout",
     "output_type": "stream",
     "text": [
      "7\n"
     ]
    }
   ],
   "source": [
    "n1=int(input(\"enter value for n1\"))\n",
    "n2=int(input(\"enter value for n2\"))\n",
    "print(n1+n2)"
   ]
  },
  {
   "cell_type": "code",
   "execution_count": 1,
   "id": "a4410121-17a3-416d-b423-abc8e694bb1a",
   "metadata": {},
   "outputs": [
    {
     "name": "stdin",
     "output_type": "stream",
     "text": [
      "enter value for n1 6\n",
      "enter value for n2 3\n"
     ]
    },
    {
     "name": "stdout",
     "output_type": "stream",
     "text": [
      "3\n"
     ]
    }
   ],
   "source": [
    "n1=int(input(\"enter value for n1\"))\n",
    "n2=int(input(\"enter value for n2\"))\n",
    "print(n1-n2)"
   ]
  },
  {
   "cell_type": "code",
   "execution_count": 3,
   "id": "d258cb88-5ff8-4b70-933a-0eccb6b09fbd",
   "metadata": {},
   "outputs": [
    {
     "name": "stdin",
     "output_type": "stream",
     "text": [
      "enter value for n1 4\n",
      "enter value for n2 9\n"
     ]
    },
    {
     "name": "stdout",
     "output_type": "stream",
     "text": [
      "36\n"
     ]
    }
   ],
   "source": [
    "\n",
    "n1=int(input(\"enter value for n1\"))\n",
    "n2=int(input(\"enter value for n2\"))\n",
    "print(n1*n2)\n"
   ]
  },
  {
   "cell_type": "code",
   "execution_count": 5,
   "id": "4f5ec682-03ac-4bf5-b5e5-663f3f3382d3",
   "metadata": {},
   "outputs": [
    {
     "name": "stdin",
     "output_type": "stream",
     "text": [
      "enter value for n1 56\n",
      "enter value for n2 8\n"
     ]
    },
    {
     "name": "stdout",
     "output_type": "stream",
     "text": [
      "7.0\n"
     ]
    }
   ],
   "source": [
    "n1=int(input(\"enter value for n1\"))\n",
    "n2=int(input(\"enter value for n2\"))\n",
    "print(n1/n2)\n"
   ]
  },
  {
   "cell_type": "code",
   "execution_count": 1,
   "id": "defe17e6-f148-4028-bab9-1d46e711af62",
   "metadata": {},
   "outputs": [
    {
     "name": "stdin",
     "output_type": "stream",
     "text": [
      "enter value for n1 5\n",
      "enter value for n2 3\n"
     ]
    },
    {
     "name": "stdout",
     "output_type": "stream",
     "text": [
      "3 5\n"
     ]
    }
   ],
   "source": [
    "n1=int(input(\"enter value for n1\"))\n",
    "n2=int(input(\"enter value for n2\"))\n",
    "temp=n1\n",
    "n1=n2\n",
    "n2=temp\n",
    "print(n1,n2)"
   ]
  },
  {
   "cell_type": "code",
   "execution_count": 3,
   "id": "4c4ca621-e7f6-4c0f-84f2-94242b6bfe77",
   "metadata": {},
   "outputs": [
    {
     "name": "stdin",
     "output_type": "stream",
     "text": [
      "enter value for n1 7\n",
      "enter value for n2 2\n"
     ]
    },
    {
     "name": "stdout",
     "output_type": "stream",
     "text": [
      "2 7\n"
     ]
    }
   ],
   "source": [
    "n1=int(input(\"enter value for n1\"))\n",
    "n2=int(input(\"enter value for n2\"))\n",
    "n1=n1+n2\n",
    "n2=n1-n2\n",
    "n1=n1-n2\n",
    "print(n1,n2)"
   ]
  },
  {
   "cell_type": "code",
   "execution_count": 5,
   "id": "db1f10c5-52f7-492e-9c03-b3f76e829b06",
   "metadata": {},
   "outputs": [
    {
     "name": "stdin",
     "output_type": "stream",
     "text": [
      "enter value for n1 6\n",
      "enter value for n2 7\n"
     ]
    },
    {
     "name": "stdout",
     "output_type": "stream",
     "text": [
      "7.0 6.0\n"
     ]
    }
   ],
   "source": [
    "n1=int(input(\"enter value for n1\"))\n",
    "n2=int(input(\"enter value for n2\"))\n",
    "n1=n1*n2\n",
    "n2=n1/n2\n",
    "n1=n1/n2\n",
    "print(n1,n2)"
   ]
  },
  {
   "cell_type": "code",
   "execution_count": 7,
   "id": "8c7cb035-1709-4e52-a088-10815e0b1701",
   "metadata": {},
   "outputs": [
    {
     "name": "stdin",
     "output_type": "stream",
     "text": [
      "enter value for n1 5\n",
      "enter value for n2 8\n"
     ]
    },
    {
     "name": "stdout",
     "output_type": "stream",
     "text": [
      "odd\n"
     ]
    }
   ],
   "source": [
    "n1=int(input(\"enter value for n1\"))\n",
    "n2=int(input(\"enter value for n2\"))\n",
    "sum=n1+n2\n",
    "if sum%2==0:\n",
    "    print(\"even\")\n",
    "else:\n",
    "    print(\"odd\")"
   ]
  },
  {
   "cell_type": "code",
   "execution_count": 9,
   "id": "26c16b0c-228f-4608-a578-5ab8685a7311",
   "metadata": {},
   "outputs": [
    {
     "name": "stdin",
     "output_type": "stream",
     "text": [
      "enter value for n1 7\n",
      "enter value for n2 8\n"
     ]
    },
    {
     "name": "stdout",
     "output_type": "stream",
     "text": [
      "8 is biggest\n"
     ]
    }
   ],
   "source": [
    "n1=int(input(\"enter value for n1\"))\n",
    "n2=int(input(\"enter value for n2\"))\n",
    "if n1>n2:\n",
    "    print(n1,\"is biggest\")\n",
    "elif n2>n1:\n",
    "    print(n2,\"is biggest\")\n",
    "else:\n",
    "    print(\"equal\")"
   ]
  },
  {
   "cell_type": "code",
   "execution_count": 9,
   "id": "b1824a54-4ae1-46a7-9d23-d68f80c8d01f",
   "metadata": {},
   "outputs": [
    {
     "name": "stdin",
     "output_type": "stream",
     "text": [
      "value of n 1\n"
     ]
    },
    {
     "name": "stdout",
     "output_type": "stream",
     "text": [
      "1\n",
      "3\n",
      "5\n",
      "7\n",
      "9\n"
     ]
    }
   ],
   "source": [
    "n=int(input(\"value of n\"))\n",
    "for n in range(1,11,2):\n",
    "    print(n)\n"
   ]
  },
  {
   "cell_type": "code",
   "execution_count": 11,
   "id": "3949a58d-f34c-4074-a45c-86b6c9421d21",
   "metadata": {},
   "outputs": [
    {
     "name": "stdin",
     "output_type": "stream",
     "text": [
      "value of n 1\n"
     ]
    },
    {
     "name": "stdout",
     "output_type": "stream",
     "text": [
      "1\n",
      "2\n",
      "3\n",
      "4\n",
      "5\n",
      "6\n",
      "7\n",
      "8\n",
      "9\n",
      "10\n"
     ]
    }
   ],
   "source": [
    "n=int(input(\"value of n\"))\n",
    "for n in range(1,11,1):\n",
    "    print(n)\n"
   ]
  },
  {
   "cell_type": "code",
   "execution_count": 13,
   "id": "1599730e-5f0e-416b-b9c3-d93d58074609",
   "metadata": {},
   "outputs": [
    {
     "name": "stdin",
     "output_type": "stream",
     "text": [
      "enter value for n 1\n"
     ]
    },
    {
     "name": "stdout",
     "output_type": "stream",
     "text": [
      "0\n",
      "2\n",
      "4\n",
      "6\n",
      "8\n",
      "10\n"
     ]
    }
   ],
   "source": [
    "n=int(input(\"enter value for n\"))\n",
    "for n in range(0,11,2):\n",
    "    print(n)\n",
    "    "
   ]
  },
  {
   "cell_type": "code",
   "execution_count": 15,
   "id": "3d223ea2-3898-4800-b2fa-9ba8cf63279a",
   "metadata": {},
   "outputs": [
    {
     "name": "stdin",
     "output_type": "stream",
     "text": [
      "enter value for n 2\n"
     ]
    },
    {
     "name": "stdout",
     "output_type": "stream",
     "text": [
      "2\n",
      "4\n",
      "6\n",
      "8\n",
      "10\n"
     ]
    }
   ],
   "source": [
    "n=int(input(\"enter value for n\"))\n",
    "for n in range(2,11,1):\n",
    "    if n%2==0:\n",
    "       print(n)"
   ]
  },
  {
   "cell_type": "code",
   "execution_count": 17,
   "id": "fcb9faae-cf0f-4604-81a7-b8063c4ab05b",
   "metadata": {},
   "outputs": [
    {
     "name": "stdout",
     "output_type": "stream",
     "text": [
      "0\n",
      "1\n",
      "2\n",
      "3\n",
      "4\n",
      "5\n",
      "6\n",
      "7\n",
      "8\n",
      "9\n",
      "10\n"
     ]
    }
   ],
   "source": [
    "for n in range(0,11,1):\n",
    "    print(n)"
   ]
  },
  {
   "cell_type": "code",
   "execution_count": 19,
   "id": "de114c49-4a33-49d0-9fbc-ea7a5b5d8309",
   "metadata": {},
   "outputs": [
    {
     "name": "stdout",
     "output_type": "stream",
     "text": [
      "1\n",
      "3\n",
      "5\n",
      "7\n",
      "9\n"
     ]
    }
   ],
   "source": [
    "for n in range(1,11,1):\n",
    "    if n%2==1:\n",
    "       print(n)"
   ]
  },
  {
   "cell_type": "code",
   "execution_count": 21,
   "id": "4f023b1c-4d02-4a89-bc41-a31a01a01893",
   "metadata": {},
   "outputs": [
    {
     "name": "stdout",
     "output_type": "stream",
     "text": [
      "11\n",
      "10\n",
      "9\n",
      "8\n",
      "7\n",
      "6\n",
      "5\n",
      "4\n",
      "3\n",
      "2\n",
      "1\n"
     ]
    }
   ],
   "source": [
    "for n in range(11,0,-1):\n",
    "    print(n)"
   ]
  },
  {
   "cell_type": "code",
   "execution_count": 46,
   "id": "a31034d0-7b88-4814-a392-59f8d317d3cd",
   "metadata": {},
   "outputs": [
    {
     "name": "stdin",
     "output_type": "stream",
     "text": [
      "enter value for n 1\n"
     ]
    },
    {
     "name": "stdout",
     "output_type": "stream",
     "text": [
      "1\n",
      "3\n",
      "5\n",
      "7\n",
      "9\n"
     ]
    }
   ],
   "source": [
    "n=int(input(\"enter value for n\"))\n",
    "for i in range(1,6):\n",
    "    print(2*n-1)\n",
    "    n=n+1\n",
    "   "
   ]
  },
  {
   "cell_type": "code",
   "execution_count": 50,
   "id": "1ef0d9b1-6ca2-474f-88c2-71a6c480c12d",
   "metadata": {},
   "outputs": [
    {
     "name": "stdin",
     "output_type": "stream",
     "text": [
      "value for n1 5\n"
     ]
    },
    {
     "name": "stdout",
     "output_type": "stream",
     "text": [
      "5 is prime\n"
     ]
    }
   ],
   "source": [
    "fc=0\n",
    "n=int(input(\"value for n1\"))\n",
    "for f in range(1,n+1):\n",
    "    if n%f==0:\n",
    "       fc=fc+1\n",
    "if fc==2:\n",
    "   print(n,\"is prime\")\n",
    "else:\n",
    "   print(n,\"is not prime\")"
   ]
  },
  {
   "cell_type": "code",
   "execution_count": 52,
   "id": "f763acd9-a77e-43e9-9800-7255ac3e7ebc",
   "metadata": {},
   "outputs": [
    {
     "name": "stdin",
     "output_type": "stream",
     "text": [
      "value for n1 6\n"
     ]
    },
    {
     "name": "stdout",
     "output_type": "stream",
     "text": [
      "6 is not prime\n"
     ]
    }
   ],
   "source": [
    "fc=0\n",
    "n1=int(input(\"value for n1\"))\n",
    "for f in range(2,n1+1):\n",
    "    if n1%f==0:\n",
    "       fc=fc+1\n",
    "       f=f+1\n",
    "if fc==1:\n",
    "   print(n1,\"is prime\")\n",
    "else:\n",
    "   print(n1,\"is not prime\")\n",
    "   "
   ]
  },
  {
   "cell_type": "code",
   "execution_count": 54,
   "id": "a7b93e25-f276-4b55-8caa-67a2da32f0c4",
   "metadata": {},
   "outputs": [
    {
     "name": "stdin",
     "output_type": "stream",
     "text": [
      "value for n1 8\n"
     ]
    },
    {
     "name": "stdout",
     "output_type": "stream",
     "text": [
      "8 is not prime\n"
     ]
    }
   ],
   "source": [
    "fc=0\n",
    "n=int(input(\"value for n1\"))\n",
    "for f in range(2,n+1):\n",
    "    if n%f==0:\n",
    "       fc=fc+1\n",
    "if fc==0:\n",
    "   print(n,\"is prime\")\n",
    "else:\n",
    "   print(n,\"is not prime\")\n",
    "   "
   ]
  },
  {
   "cell_type": "code",
   "execution_count": 58,
   "id": "693a823a-9154-43b7-82aa-4baeef5f0490",
   "metadata": {},
   "outputs": [
    {
     "name": "stdin",
     "output_type": "stream",
     "text": [
      "value for n1 6\n"
     ]
    },
    {
     "name": "stdout",
     "output_type": "stream",
     "text": [
      "6 is perfect\n"
     ]
    }
   ],
   "source": [
    "fs=0\n",
    "n=int(input(\"value for n1\"))\n",
    "for f in range(1,n//2+1,1):\n",
    "    if n%f==0:\n",
    "       fs=fs+f    \n",
    "       if fs==f:\n",
    "          print(n,\"is perfect\")\n",
    "    else:\n",
    "          print(n,\"is not perfect\")\n",
    "   "
   ]
  },
  {
   "cell_type": "code",
   "execution_count": 5,
   "id": "4fa3e82d-2b5b-4488-a2a1-4182395b583d",
   "metadata": {},
   "outputs": [
    {
     "name": "stdin",
     "output_type": "stream",
     "text": [
      "value of n 9456\n"
     ]
    },
    {
     "name": "stdout",
     "output_type": "stream",
     "text": [
      "1\n",
      "2\n",
      "3\n",
      "4\n"
     ]
    }
   ],
   "source": [
    "dc=0\n",
    "n=int(input(\"value of n\"))\n",
    "while n>0:\n",
    "      dc=dc+1\n",
    "      n=n//10\n",
    "      print(dc)"
   ]
  },
  {
   "cell_type": "code",
   "execution_count": 7,
   "id": "52b688b1-6725-4c21-b54b-89d8c26cec93",
   "metadata": {},
   "outputs": [
    {
     "name": "stdin",
     "output_type": "stream",
     "text": [
      "value of n 7492\n"
     ]
    },
    {
     "name": "stdout",
     "output_type": "stream",
     "text": [
      "2\n",
      "9\n",
      "4\n",
      "7\n"
     ]
    }
   ],
   "source": [
    "rem=0\n",
    "n=int(input(\"value of n\"))\n",
    "while n>0:\n",
    "      rem=n%10\n",
    "      n=n//10\n",
    "      print(rem)"
   ]
  },
  {
   "cell_type": "code",
   "execution_count": 9,
   "id": "29e82990-bb86-41f6-873d-920087f32d40",
   "metadata": {},
   "outputs": [
    {
     "name": "stdin",
     "output_type": "stream",
     "text": [
      "enter a value for n 8475\n"
     ]
    },
    {
     "name": "stdout",
     "output_type": "stream",
     "text": [
      "5\n",
      "57\n",
      "574\n",
      "5748\n"
     ]
    }
   ],
   "source": [
    "rem=0\n",
    "rn=0\n",
    "n=int(input(\"enter a value for n\"))\n",
    "while n>0:\n",
    "      rem=n%10\n",
    "      rn=rn*10+rem\n",
    "      n=n//10\n",
    "      print(rn)"
   ]
  },
  {
   "cell_type": "code",
   "execution_count": 3,
   "id": "2fd2f3f0-d709-42fc-a195-5710e7be9278",
   "metadata": {},
   "outputs": [
    {
     "name": "stdin",
     "output_type": "stream",
     "text": [
      "value of n 6745\n"
     ]
    },
    {
     "name": "stdout",
     "output_type": "stream",
     "text": [
      "es=es+rem\n",
      "0 is bigger\n"
     ]
    }
   ],
   "source": [
    "es=0\n",
    "os=0\n",
    "n=int(input(\"value of n\"))\n",
    "while n>0:\n",
    "      rem=n%10\n",
    "      n=n//10\n",
    "if rem%2==0:\n",
    "   print(\"es=es+rem\")\n",
    "else:\n",
    "   print(\"os=os+rem\")\n",
    "if es>os:\n",
    "   print(es,\"is bigger\")\n",
    "else :\n",
    "   print(os,\"is bigger\")"
   ]
  },
  {
   "cell_type": "code",
   "execution_count": 5,
   "id": "46e693e0-56a1-42f5-8ee6-88cc48e0d3b5",
   "metadata": {},
   "outputs": [
    {
     "name": "stdin",
     "output_type": "stream",
     "text": [
      "value of n 7435\n"
     ]
    },
    {
     "name": "stdout",
     "output_type": "stream",
     "text": [
      "eps=eps+rem\n",
      "0 is bigger\n"
     ]
    }
   ],
   "source": [
    "eps=0\n",
    "ops=0\n",
    "dc=0\n",
    "n=int(input(\"value of n\"))\n",
    "while n>0:\n",
    "      rem=n%10\n",
    "      rn=n*10+rem\n",
    "      n=n//10\n",
    "if dc%2==0:\n",
    "   print(\"eps=eps+rem\")\n",
    "else:\n",
    "   print(\"ops=ops+rem\")\n",
    "if eps>ops:\n",
    "   print(eps,\"is bigger\")\n",
    "else:\n",
    "   print(ops,\"is bigger\")\n",
    "      "
   ]
  },
  {
   "cell_type": "code",
   "execution_count": 7,
   "id": "75cb8c72-d9f3-480c-9813-d114234efeee",
   "metadata": {},
   "outputs": [
    {
     "name": "stdin",
     "output_type": "stream",
     "text": [
      "value for n 7213\n"
     ]
    },
    {
     "name": "stdout",
     "output_type": "stream",
     "text": [
      "odc=odc+1\n",
      "0 is biggest\n"
     ]
    }
   ],
   "source": [
    "edc=0\n",
    "odc=0\n",
    "dc=0\n",
    "n=int(input(\"value for n\"))\n",
    "while n>0:\n",
    "      dc=dc+1\n",
    "      rem=n%10\n",
    "      n=n//10\n",
    "if rem%2==0:\n",
    "   print(\"edc=edc+1\")\n",
    "else:\n",
    "   print(\"odc=odc+1\")\n",
    "if edc>odc:\n",
    "   print(edc,\"is biggest\")\n",
    "else:\n",
    "   print(odc,\"is biggest\")"
   ]
  },
  {
   "cell_type": "code",
   "execution_count": 13,
   "id": "cbf52b0c-f117-451d-b2f5-07961c0edd1d",
   "metadata": {},
   "outputs": [
    {
     "name": "stdin",
     "output_type": "stream",
     "text": [
      "value of n 6958\n"
     ]
    },
    {
     "name": "stdout",
     "output_type": "stream",
     "text": [
      "0\n"
     ]
    }
   ],
   "source": [
    "sum=0\n",
    "n=int(input(\"value of n\"))\n",
    "while n>0:\n",
    "      rem=n%10\n",
    "      sum=sum+rem\n",
    "      n=n//10\n",
    "if sum>9:\n",
    "   n=sum\n",
    "   sum=0\n",
    "   print(sum)"
   ]
  },
  {
   "cell_type": "code",
   "execution_count": 15,
   "id": "7000069c-8203-43b9-901c-2e69bdf6b282",
   "metadata": {},
   "outputs": [
    {
     "name": "stdin",
     "output_type": "stream",
     "text": [
      "value of n 5\n"
     ]
    },
    {
     "name": "stdout",
     "output_type": "stream",
     "text": [
      "5\n",
      "20\n",
      "60\n",
      "120\n"
     ]
    }
   ],
   "source": [
    "f=1\n",
    "n=int(input(\"value of n\"))\n",
    "while n>1:\n",
    "      f=f*n\n",
    "      n=n-1\n",
    "      print(f)\n"
   ]
  },
  {
   "cell_type": "code",
   "execution_count": 17,
   "id": "32a4f3a3-059c-473d-aa67-21e0ed9053f1",
   "metadata": {},
   "outputs": [
    {
     "name": "stdin",
     "output_type": "stream",
     "text": [
      "value of n 18\n"
     ]
    },
    {
     "name": "stdout",
     "output_type": "stream",
     "text": [
      "9\n"
     ]
    }
   ],
   "source": [
    "n=int(input(\"value of n\"))\n",
    "while n>9:\n",
    "      n=n//10+n%10\n",
    "      print(n)"
   ]
  },
  {
   "cell_type": "code",
   "execution_count": 7,
   "id": "68144dfc-9d25-4f69-8808-56a42d0453f2",
   "metadata": {},
   "outputs": [
    {
     "name": "stdin",
     "output_type": "stream",
     "text": [
      "value of n 1634\n"
     ]
    },
    {
     "name": "stdout",
     "output_type": "stream",
     "text": [
      "1634\n",
      "1634 is armstrong\n"
     ]
    }
   ],
   "source": [
    "n=int(input(\"value of n\"))\n",
    "sum=0\n",
    "dc=0\n",
    "rem=0\n",
    "temp=n\n",
    "while temp>0:\n",
    "      dc=dc+1\n",
    "      temp=temp//10\n",
    "temp=n\n",
    "while temp>0:\n",
    "   rem=temp%10\n",
    "   sum=sum+rem**dc\n",
    "   temp=temp//10\n",
    "print(sum)\n",
    "if sum==n:\n",
    "   print(n,\"is armstrong\")\n",
    "else:\n",
    "   print(n,\"is not armstrong\")"
   ]
  },
  {
   "cell_type": "code",
   "execution_count": 29,
   "id": "2cc02ac9-7f34-47fa-a17b-a5877868bcb3",
   "metadata": {},
   "outputs": [
    {
     "name": "stdin",
     "output_type": "stream",
     "text": [
      "value of n 12324\n"
     ]
    },
    {
     "name": "stdout",
     "output_type": "stream",
     "text": [
      "4 is bigger\n"
     ]
    }
   ],
   "source": [
    "n=int(input(\"value of n\"))\n",
    "flds=0\n",
    "mds=0\n",
    "flds=flds+n%10\n",
    "n=n//10\n",
    "if n>9:\n",
    "   mds=mds+n%10\n",
    "else:\n",
    "    flds=flds+n\n",
    "if flds>mds:\n",
    "    print(flds,\"is bigger\")\n",
    "else:\n",
    "    print(mds,\"is bigger\")"
   ]
  },
  {
   "cell_type": "code",
   "execution_count": 31,
   "id": "2034046a-3c23-4e1f-a6fc-d6208f47e288",
   "metadata": {},
   "outputs": [
    {
     "name": "stdin",
     "output_type": "stream",
     "text": [
      "value for n1 23\n",
      "value for n2 76\n"
     ]
    },
    {
     "name": "stdout",
     "output_type": "stream",
     "text": [
      "23 is not prime\n",
      "24 is not prime\n",
      "25 is not prime\n",
      "26 is not prime\n",
      "27 is not prime\n",
      "28 is not prime\n",
      "29 is not prime\n",
      "30 is not prime\n",
      "31 is not prime\n",
      "32 is not prime\n",
      "33 is not prime\n",
      "34 is not prime\n",
      "35 is not prime\n",
      "36 is not prime\n",
      "37 is not prime\n",
      "38 is not prime\n",
      "39 is not prime\n",
      "40 is not prime\n",
      "41 is not prime\n",
      "42 is not prime\n",
      "43 is not prime\n",
      "44 is not prime\n",
      "45 is not prime\n",
      "46 is prime\n",
      "47 is not prime\n",
      "48 is prime\n",
      "49 is not prime\n",
      "50 is prime\n",
      "51 is not prime\n",
      "52 is prime\n",
      "53 is not prime\n",
      "54 is prime\n",
      "55 is not prime\n",
      "56 is prime\n",
      "57 is not prime\n",
      "58 is prime\n",
      "59 is not prime\n",
      "60 is prime\n",
      "61 is not prime\n",
      "62 is prime\n",
      "63 is not prime\n",
      "64 is prime\n",
      "65 is not prime\n",
      "66 is prime\n",
      "67 is not prime\n",
      "68 is prime\n",
      "69 is prime\n",
      "70 is prime\n",
      "71 is not prime\n",
      "72 is not prime\n",
      "73 is not prime\n",
      "74 is prime\n",
      "75 is prime\n",
      "76 is prime\n"
     ]
    }
   ],
   "source": [
    "fc=0\n",
    "n1=int(input(\"value for n1\"))\n",
    "n2=int(input(\"value for n2\"))\n",
    "for n in range(n1,n2+1):   \n",
    "   fc=0\n",
    "   for f in range(n1,n2+1):\n",
    "      if n%f==0:\n",
    "         fc=fc+1\n",
    "   if fc==2:       \n",
    "         print(n,\"is prime\")\n",
    "   else:\n",
    "         print(n,\"is not prime\")\n",
    "   "
   ]
  },
  {
   "cell_type": "code",
   "execution_count": 33,
   "id": "e0add378-dcb8-4b5e-bf93-14f15a97a093",
   "metadata": {},
   "outputs": [
    {
     "name": "stdin",
     "output_type": "stream",
     "text": [
      "value for n1 25\n",
      "value for n2 74\n"
     ]
    },
    {
     "name": "stdout",
     "output_type": "stream",
     "text": [
      "74 is bigger\n"
     ]
    }
   ],
   "source": [
    "n1=int(input(\"value for n1\"))\n",
    "n2=int(input(\"value for n2\"))\n",
    "if n1>n2:\n",
    "   print(n1,\"is bigger\")\n",
    "else:\n",
    "   print(n2,\"is bigger\")\n"
   ]
  },
  {
   "cell_type": "code",
   "execution_count": 53,
   "id": "cfaa5906-4d14-4151-aa31-a4d4b48a5a1d",
   "metadata": {},
   "outputs": [
    {
     "name": "stdin",
     "output_type": "stream",
     "text": [
      "Enter the value of n:  2\n"
     ]
    },
    {
     "name": "stdout",
     "output_type": "stream",
     "text": [
      "2 * 1 = 2\n",
      "2 * 2 = 4\n",
      "2 * 3 = 6\n",
      "2 * 4 = 8\n",
      "2 * 5 = 10\n",
      "2 * 6 = 12\n",
      "2 * 7 = 14\n",
      "2 * 8 = 16\n",
      "2 * 9 = 18\n",
      "2 * 10 = 20\n"
     ]
    }
   ],
   "source": [
    "n = int(input(\"Enter the value of n: \"))\n",
    "for i in range(1, 11):\n",
    "    print(n, \"*\", i, \"=\", n * i)\n"
   ]
  },
  {
   "cell_type": "code",
   "execution_count": 55,
   "id": "562058e3-cb20-4dc4-9ddd-cc2a5bdbc6ba",
   "metadata": {},
   "outputs": [
    {
     "name": "stdin",
     "output_type": "stream",
     "text": [
      "value for n 2345\n"
     ]
    },
    {
     "name": "stdout",
     "output_type": "stream",
     "text": [
      "5342\n"
     ]
    }
   ],
   "source": [
    "n=int(input(\"value for n\"))\n",
    "temp=n\n",
    "dc=0\n",
    "while temp>0:\n",
    "      dc=dc+1\n",
    "      temp=temp//10\n",
    "print(n%10*10**(dc-1)+n%10**(dc-1)-n%10+n//10**(dc-1))"
   ]
  },
  {
   "cell_type": "code",
   "execution_count": 59,
   "id": "e177debd-410a-4739-a11e-6444028b1c12",
   "metadata": {},
   "outputs": [
    {
     "name": "stdin",
     "output_type": "stream",
     "text": [
      "how many rows 4\n"
     ]
    },
    {
     "name": "stdout",
     "output_type": "stream",
     "text": [
      "1234\n",
      "123\n",
      "12\n",
      "1\n"
     ]
    }
   ],
   "source": [
    "r=int(input(\"how many rows\"))\n",
    "for i in range(r,0,-1):\n",
    "    for j in range(1,i+1):\n",
    "        print(j,end='')\n",
    "    print()\n",
    "    "
   ]
  },
  {
   "cell_type": "code",
   "execution_count": 61,
   "id": "e707c2e2-18d1-44b5-b1e8-342b48cafd6d",
   "metadata": {},
   "outputs": [
    {
     "name": "stdin",
     "output_type": "stream",
     "text": [
      "how many rows 4\n"
     ]
    },
    {
     "name": "stdout",
     "output_type": "stream",
     "text": [
      "1\n",
      "11\n",
      "111\n",
      "1111\n"
     ]
    }
   ],
   "source": [
    "r=int(input(\"how many rows\"))\n",
    "for i in range(1,r+1):\n",
    "    for j in range(1,i+1):\n",
    "        print(1,end='')\n",
    "    print()\n",
    "    "
   ]
  },
  {
   "cell_type": "code",
   "execution_count": 63,
   "id": "6bdd3d19-8219-4118-833d-523b54b0fed4",
   "metadata": {},
   "outputs": [
    {
     "name": "stdin",
     "output_type": "stream",
     "text": [
      "how many rows 4\n"
     ]
    },
    {
     "name": "stdout",
     "output_type": "stream",
     "text": [
      "1\n",
      "12\n",
      "123\n",
      "1234\n"
     ]
    }
   ],
   "source": [
    "r=int(input(\"how many rows\"))\n",
    "for i in range(1,r+1):\n",
    "    for j in range(1,i+1):\n",
    "        print(j,end='')\n",
    "    print()\n",
    "    "
   ]
  },
  {
   "cell_type": "code",
   "execution_count": 67,
   "id": "4b29166b-8844-41a7-9839-66432963403c",
   "metadata": {},
   "outputs": [
    {
     "name": "stdin",
     "output_type": "stream",
     "text": [
      "how many rows 4\n"
     ]
    },
    {
     "name": "stdout",
     "output_type": "stream",
     "text": [
      "1\n",
      "23\n",
      "456\n",
      "78910\n"
     ]
    }
   ],
   "source": [
    "k=1\n",
    "r=int(input(\"how many rows\"))\n",
    "for i in range(1,r+1):\n",
    "    for j in range(1,i+1):\n",
    "        print(k,end='')\n",
    "        k=k+1\n",
    "    print()\n",
    "    "
   ]
  },
  {
   "cell_type": "code",
   "execution_count": 71,
   "id": "f47c3c7e-48d0-4ffd-ac3f-547b4fa6bfae",
   "metadata": {},
   "outputs": [
    {
     "name": "stdin",
     "output_type": "stream",
     "text": [
      "how many rows 4\n"
     ]
    },
    {
     "name": "stdout",
     "output_type": "stream",
     "text": [
      "10987\n",
      "654\n",
      "32\n",
      "1\n"
     ]
    }
   ],
   "source": [
    "k=10\n",
    "r=int(input(\"how many rows\"))\n",
    "for i in range(r,0,-1):\n",
    "    for j in range(1,i+1):\n",
    "        print(k,end='')\n",
    "        k=k-1\n",
    "    print()\n",
    "    "
   ]
  },
  {
   "cell_type": "code",
   "execution_count": 73,
   "id": "086485d2-d3e1-4b14-89e1-0f79b456a08f",
   "metadata": {},
   "outputs": [
    {
     "name": "stdin",
     "output_type": "stream",
     "text": [
      "how many rows 4\n"
     ]
    },
    {
     "name": "stdout",
     "output_type": "stream",
     "text": [
      "1111\n",
      "111\n",
      "11\n",
      "1\n"
     ]
    }
   ],
   "source": [
    "r=int(input(\"how many rows\"))\n",
    "for i in range(r,0,-1):\n",
    "    for j in range(1,i+1):\n",
    "        print(1,end='')\n",
    "    print()\n",
    "    "
   ]
  },
  {
   "cell_type": "code",
   "execution_count": 1,
   "id": "11430816-9ff7-4990-8ea7-42644fa74642",
   "metadata": {},
   "outputs": [
    {
     "name": "stdin",
     "output_type": "stream",
     "text": [
      "enter a value 4\n"
     ]
    },
    {
     "name": "stdout",
     "output_type": "stream",
     "text": [
      "4 6 8 10 "
     ]
    }
   ],
   "source": [
    "n=int(input(\"enter a value\"))\n",
    "while n<=10:\n",
    "      print(n,end=\" \")\n",
    "      if n==9:\n",
    "         n=0\n",
    "      n=n+2"
   ]
  },
  {
   "cell_type": "code",
   "execution_count": null,
   "id": "bbcfe7d6-569a-4f9e-b06d-7c359fbef24f",
   "metadata": {},
   "outputs": [],
   "source": []
  }
 ],
 "metadata": {
  "kernelspec": {
   "display_name": "Python 3 (ipykernel)",
   "language": "python",
   "name": "python3"
  },
  "language_info": {
   "codemirror_mode": {
    "name": "ipython",
    "version": 3
   },
   "file_extension": ".py",
   "mimetype": "text/x-python",
   "name": "python",
   "nbconvert_exporter": "python",
   "pygments_lexer": "ipython3",
   "version": "3.12.7"
  }
 },
 "nbformat": 4,
 "nbformat_minor": 5
}
